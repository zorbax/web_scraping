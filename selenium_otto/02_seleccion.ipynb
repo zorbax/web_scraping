{
 "cells": [
  {
   "cell_type": "markdown",
   "id": "d18c05dd-457a-40dd-9442-52104167a656",
   "metadata": {},
   "source": [
    "# Selección de elementos"
   ]
  },
  {
   "cell_type": "markdown",
   "id": "1971e5a9-d4cd-4a06-b498-cd1a06708cc6",
   "metadata": {},
   "source": [
    "## Ejemplo simple"
   ]
  },
  {
   "cell_type": "code",
   "execution_count": null,
   "id": "e9c95b73-d128-4b6c-8e9f-871d54e7cd62",
   "metadata": {},
   "outputs": [],
   "source": [
    "import requests\n",
    "from pprint import pprint as pp\n",
    "from bs4 import BeautifulSoup as bs"
   ]
  },
  {
   "cell_type": "markdown",
   "id": "75f82e60-882c-42cb-9816-ca778fa1b5f1",
   "metadata": {},
   "source": [
    "Examinemos un ejemplo más pequeño"
   ]
  },
  {
   "cell_type": "code",
   "execution_count": null,
   "id": "dd97e9e2-7014-4669-a018-12e893d1d5a9",
   "metadata": {},
   "outputs": [],
   "source": [
    "ejemplo_html=\"\"\"\n",
    "<!DOCTYPE html>\n",
    "<html>\n",
    "<head>\n",
    "    <title>Mi Sitio Web de Ejemplo</title>\n",
    "    <meta charset=\"UTF-8\">\n",
    "    <meta name=\"description\" content=\"Un sitio web de ejemplo para demostrar componentes comunes de HTML.\">\n",
    "    <link rel=\"stylesheet\" href=\"styles.css\">\n",
    "</head>\n",
    "<body>\n",
    "    <header id=\"header\" class=\"header\">\n",
    "        <h1>Bienvenido a Mi Sitio Web de Ejemplo</h1>\n",
    "        <nav id=\"nav\" class=\"nav\">\n",
    "            <ul>\n",
    "                <li><a href=\"#home\" class=\"nav-link\">Inicio</a></li>\n",
    "                <li><a href=\"#about\" class=\"nav-link\">Acerca de</a></li>\n",
    "                <li><a href=\"#contact\" class=\"nav-link\">Contacto</a></li>\n",
    "            </ul>\n",
    "        </nav>\n",
    "    </header>\n",
    "\n",
    "    <main id=\"main\" class=\"container\">\n",
    "        <section id=\"content\">\n",
    "            <h2>Sobre Nosotros</h2>\n",
    "            <p>Somos una empresa que valora la excelencia y la innovación.</p>\n",
    "            <img src=\"logo.png\" alt=\"\" id=\"logo\" class=\"logo\">\n",
    "        </section>\n",
    "\n",
    "        <section id=\"services\">\n",
    "            <h2>Nuestros Servicios</h2>\n",
    "            <ul>\n",
    "                <li>Desarrollo Web</li>\n",
    "                <li>Desarrollo de Aplicaciones</li>\n",
    "                <li>Optimización SEO</li>\n",
    "            </ul>\n",
    "        </section>\n",
    "\n",
    "        <section id=\"contact\">\n",
    "            <h2>Contáctanos</h2>\n",
    "            <form id=\"form\" class=\"form\">\n",
    "                <label for=\"name\">Nombre:</label>\n",
    "                <input type=\"text\" id=\"name\" name=\"name\" class=\"input-group\">\n",
    "                <label for=\"email\">Correo Electrónico:</label>\n",
    "                <input type=\"email\" id=\"email\" name=\"email\" class=\"input-group\">\n",
    "                <button type=\"submit\" class=\"button\">Enviar</button>\n",
    "            </form>\n",
    "        </section>\n",
    "    </main>\n",
    "\n",
    "    <footer id=\"footer\" class=\"footer\">\n",
    "        <p>© 2024 Mi Sitio Web de Ejemplo</p>\n",
    "    </footer>\n",
    "\n",
    "    <div id=\"modal\" class=\"modal\">\n",
    "        <div class=\"modal-content\">\n",
    "            <span class=\"close-button\">×</span>\n",
    "            <p>Este es un cuadro de diálogo modal.</p>\n",
    "        </div>\n",
    "    </div>\n",
    "</body>\n",
    "</html>\n",
    "\"\"\""
   ]
  },
  {
   "cell_type": "code",
   "execution_count": null,
   "id": "187be25d-d205-484c-bbd7-501c149f44b3",
   "metadata": {},
   "outputs": [],
   "source": [
    "soup = bs(ejemplo_html, 'html.parser')"
   ]
  },
  {
   "cell_type": "code",
   "execution_count": null,
   "id": "0561d785-1def-4b7b-8803-e5756ca518a7",
   "metadata": {},
   "outputs": [],
   "source": [
    "print(soup.prettify())"
   ]
  },
  {
   "cell_type": "code",
   "execution_count": null,
   "id": "4336bca2-db61-4729-bee5-5e622c2de788",
   "metadata": {},
   "outputs": [],
   "source": [
    "soup.html"
   ]
  },
  {
   "cell_type": "code",
   "execution_count": null,
   "id": "e3fcc8ab-de92-47bb-8cdc-69c082ad22f5",
   "metadata": {},
   "outputs": [],
   "source": [
    "soup.head"
   ]
  },
  {
   "cell_type": "code",
   "execution_count": null,
   "id": "97df8c11-ab35-4ee4-bf98-80879c624811",
   "metadata": {},
   "outputs": [],
   "source": [
    "soup.body"
   ]
  },
  {
   "cell_type": "code",
   "execution_count": null,
   "id": "4765b01e-9bda-42d5-9d22-89223bb97815",
   "metadata": {},
   "outputs": [],
   "source": [
    "soup.find('a')"
   ]
  },
  {
   "cell_type": "markdown",
   "id": "f988c45a-b21f-4195-b9cd-fab39200c2e4",
   "metadata": {},
   "source": [
    "Seleccionemos los siguientes elementos:"
   ]
  },
  {
   "cell_type": "markdown",
   "id": "3446dbb9-0bd4-4617-beb9-8c8b586f2d06",
   "metadata": {},
   "source": [
    "**Etiquetas**"
   ]
  },
  {
   "cell_type": "code",
   "execution_count": null,
   "id": "ecd9baeb-8836-4248-b20e-aa484a330e28",
   "metadata": {},
   "outputs": [],
   "source": [
    "html_element = soup.html\n",
    "head_element = soup.head\n",
    "body_element = soup.body\n",
    "h1_element = soup.find('h1')\n",
    "p_element = soup.find('p')\n",
    "a_element = soup.find('a')\n",
    "img_element = soup.find('img')"
   ]
  },
  {
   "cell_type": "code",
   "execution_count": null,
   "id": "36966196-7182-42af-8d8d-f480d9742285",
   "metadata": {},
   "outputs": [],
   "source": [
    "Puedes revisar el contenido de cada variable imprimiendo su contenido."
   ]
  },
  {
   "cell_type": "code",
   "execution_count": null,
   "id": "49b2f9c4-94fe-4fa2-91d7-65b1097560b7",
   "metadata": {},
   "outputs": [],
   "source": [
    "print(img_element)"
   ]
  },
  {
   "cell_type": "markdown",
   "id": "bfadb1d6-3939-4854-9d6a-b95b8ad33225",
   "metadata": {},
   "source": [
    "**Atributos**"
   ]
  },
  {
   "cell_type": "code",
   "execution_count": null,
   "id": "f63b023d-c57d-4f3d-82ea-dbc8bf999633",
   "metadata": {},
   "outputs": [],
   "source": [
    "src_attribute = img_element['src']\n",
    "href_attribute = a_element['href']\n",
    "alt_attribute = img_element['alt']\n",
    "type_attribute = img_element.get('type')\n",
    "target_attribute = a_element.get('target')\n",
    "title_attribute = a_element.get('title')"
   ]
  },
  {
   "cell_type": "code",
   "execution_count": null,
   "id": "a06f61c1-1408-445d-868f-6044c5af8b0c",
   "metadata": {},
   "outputs": [],
   "source": [
    "print(src_attribute)"
   ]
  },
  {
   "cell_type": "markdown",
   "id": "0c01a65e-bc7c-4922-8b21-b8317d14baf1",
   "metadata": {},
   "source": [
    "**Clases**"
   ]
  },
  {
   "cell_type": "code",
   "execution_count": null,
   "id": "2e76bbca-f21a-4ee7-a955-a9a9d1ea7d40",
   "metadata": {},
   "outputs": [],
   "source": [
    "container_class = soup.find('div', class_='container')\n",
    "row_class = soup.find('div', class_='row')\n",
    "button_class = soup.find('button', class_='button')\n",
    "nav_class = soup.find('nav', class_='nav')"
   ]
  },
  {
   "cell_type": "code",
   "execution_count": null,
   "id": "575f925c-f50a-414f-b1ba-b72cc68347af",
   "metadata": {},
   "outputs": [],
   "source": [
    "print(button_class)"
   ]
  },
  {
   "cell_type": "markdown",
   "id": "e6f0a373-2c44-4214-a503-2c5bc20fcaa4",
   "metadata": {},
   "source": [
    "**IDs**"
   ]
  },
  {
   "cell_type": "code",
   "execution_count": null,
   "id": "5365e83b-cb00-4e14-b0d3-9303512a5de3",
   "metadata": {},
   "outputs": [],
   "source": [
    "main_id = soup.find('main', id='main')\n",
    "header_id = soup.find('header', id='header')\n",
    "content_id = soup.find('div', id='content')"
   ]
  },
  {
   "cell_type": "code",
   "execution_count": null,
   "id": "f25e62e1-89e3-4edf-8711-11870da08d23",
   "metadata": {},
   "outputs": [],
   "source": [
    "print(header_id)"
   ]
  },
  {
   "cell_type": "markdown",
   "id": "0a7f7d39-5f26-4f1c-9416-a4281c61c8b8",
   "metadata": {},
   "source": [
    "### Ejemplo"
   ]
  },
  {
   "cell_type": "markdown",
   "id": "9cac316d-a803-4240-80a7-674fb0c6578e",
   "metadata": {},
   "source": [
    "¿Qué pasa si queremos obtener información de la página: https://www.plataformadetransparencia.org.mx?"
   ]
  },
  {
   "cell_type": "code",
   "execution_count": null,
   "id": "0f8499b5-148f-459d-b0ec-64720a9be4ae",
   "metadata": {},
   "outputs": [],
   "source": [
    "url = \"https://www.plataformadetransparencia.org.mx/Inicio\"\n",
    "response = requests.get(url)\n",
    "response.raise_for_status()"
   ]
  },
  {
   "cell_type": "markdown",
   "id": "acbe0273-6121-48c4-910e-e7530d363083",
   "metadata": {},
   "source": [
    "`raise_for_status()` devuelve un objeto HTTPError si se produjo un error durante el proceso, cuando el código de error no se encuentra en el rango de **200-229**, "
   ]
  },
  {
   "cell_type": "markdown",
   "id": "82bb4a1c-df08-4a51-bcb6-9ca72299bb3f",
   "metadata": {},
   "source": [
    "A pesar del error podemos acceder a la respuesta de `requests` a la página:"
   ]
  },
  {
   "cell_type": "code",
   "execution_count": null,
   "id": "f531ad61-46b3-48d4-a902-4cca988c3d85",
   "metadata": {},
   "outputs": [],
   "source": [
    "soup = bs(response.content, 'html.parser')\n",
    "print(soup.prettify())"
   ]
  },
  {
   "cell_type": "markdown",
   "id": "69eb3b3c-bfce-49f4-a4b9-b00d2660232d",
   "metadata": {},
   "source": [
    "El acceso es fue denegado. Del mensaje anterior podemos tener en consideración tres elementos:\n",
    "\n",
    "- Habilitar cookies\n",
    "- Captcha"
   ]
  },
  {
   "cell_type": "markdown",
   "id": "c13fac29-e072-4c1e-9848-b9022c1dc604",
   "metadata": {},
   "source": [
    "## ¿Qué es una cookie?"
   ]
  },
  {
   "cell_type": "markdown",
   "id": "520db90c-8841-4b01-a49b-c46686b8f228",
   "metadata": {},
   "source": [
    "Las cookies son pequeños archivos de texto, generalmente, que los sitios web almacenan en tu computadora. Son como pequeñas notas digitales que los sitios web utilizan para recordar información sobre tu visita."
   ]
  },
  {
   "cell_type": "code",
   "execution_count": null,
   "id": "011c9ade-a0cb-41c4-b837-9c1b6bb8f78c",
   "metadata": {},
   "outputs": [],
   "source": [
    "Hay dos opciones para solucionar este error: utilizar una estrategia para resolver el captcha y cargar las cookies por default o emular el navegador sin utilizar el navagador. "
   ]
  },
  {
   "cell_type": "code",
   "execution_count": null,
   "id": "0aac2860-969a-48d7-aaa8-c97d3f4e97ea",
   "metadata": {},
   "outputs": [],
   "source": [
    "import sys"
   ]
  },
  {
   "cell_type": "code",
   "execution_count": null,
   "id": "59002b1c-3e73-4e41-aeaa-9eb0c18c3eb6",
   "metadata": {},
   "outputs": [],
   "source": [
    "!{sys.executable} -m pip install beautifulsoup4 selenium"
   ]
  },
  {
   "cell_type": "code",
   "execution_count": null,
   "id": "0f75ea11-c01f-410b-8cf8-11296cfa5751",
   "metadata": {},
   "outputs": [],
   "source": [
    "url = \"https://www.plataformadetransparencia.org.mx/Inicio\""
   ]
  },
  {
   "cell_type": "code",
   "execution_count": null,
   "id": "07b9c0ed-3b01-4e4c-aea2-34dd6458eb44",
   "metadata": {},
   "outputs": [],
   "source": [
    "from curl_cffi import requests\n",
    "\n",
    "# Notice the impersonate parameter\n",
    "response = requests.get(url, impersonate=\"chrome\")\n",
    "response.raise_for_status()"
   ]
  },
  {
   "cell_type": "code",
   "execution_count": null,
   "id": "4bf9527c-f586-4595-a10e-0a62ed571d4a",
   "metadata": {},
   "outputs": [],
   "source": [
    "soup = bs(response.content, 'html.parser')\n",
    "print(soup.prettify())"
   ]
  },
  {
   "cell_type": "code",
   "execution_count": null,
   "id": "780a5924-ba17-4f77-8a7a-4f47ac6ccc37",
   "metadata": {},
   "outputs": [],
   "source": [
    "response.cookies"
   ]
  },
  {
   "cell_type": "code",
   "execution_count": null,
   "id": "78ecb165-79ba-42f6-a1cf-18332ae277ca",
   "metadata": {},
   "outputs": [],
   "source": [
    "response.cookies.get(\"__cf_bm\")"
   ]
  },
  {
   "cell_type": "markdown",
   "id": "151e07a8-61e0-44c7-961a-cb7ad096b423",
   "metadata": {},
   "source": [
    "Puedo vencer el bloqueco de Cloudfare con curl_cffi? Depende, en este caso sí. "
   ]
  },
  {
   "cell_type": "markdown",
   "id": "6060fd5c-4389-4bdf-8b4e-2129835ef091",
   "metadata": {},
   "source": [
    "Exploremos los elementos de la página:"
   ]
  },
  {
   "cell_type": "code",
   "execution_count": null,
   "id": "c9ae4101-11f3-480f-a14c-3d5680fc2687",
   "metadata": {},
   "outputs": [],
   "source": [
    "def extract_elements(html_content):\n",
    "    \"\"\"\n",
    "    Extrae todos los tags, attributes, classes, y IDs de un documento HTML.\n",
    "\n",
    "    Args:\n",
    "        html_content: El contenido HTML como texto.\n",
    "\n",
    "    Returns:\n",
    "        Un diccionario que contiene una lista de tags, attributes, classes, y IDs.\n",
    "    \"\"\"\n",
    "\n",
    "    soup = bs(html_content, 'html.parser')\n",
    "\n",
    "    tags = {tag.name for tag in soup.find_all()}\n",
    "    attributes = {attr for tag in soup.find_all() for attr in tag.attrs}\n",
    "    classes = {class_name for tag in soup.find_all() for class_name in tag.get('class', [])}\n",
    "    ids = {tag.get('id') for tag in soup.find_all() if tag.get('id')}\n",
    "\n",
    "    return {'tags': tags, 'attributes': attributes, 'classes': classes, 'ids': ids}"
   ]
  },
  {
   "cell_type": "code",
   "execution_count": null,
   "id": "cd3ebfb2-2b5d-46e3-9c82-7c79df4e9d73",
   "metadata": {},
   "outputs": [],
   "source": [
    "extract_elements(response.content)"
   ]
  },
  {
   "cell_type": "code",
   "execution_count": null,
   "id": "c2f151f1-2834-4259-817d-52af91b87f76",
   "metadata": {},
   "outputs": [],
   "source": [
    "soup"
   ]
  },
  {
   "cell_type": "markdown",
   "id": "a20e8d27-0c1e-44cd-b5b4-7e4a45a597fd",
   "metadata": {},
   "source": [
    "Por qué a pesar de haber vencido el acceso de Cloudfare no puedeo acceder al contenido completo de la página web?|m"
   ]
  },
  {
   "cell_type": "markdown",
   "id": "82e444a2-cea5-4329-9dc6-03cd8669ffdc",
   "metadata": {},
   "source": [
    "La página es una app de Angular, y tiene que ser rendereada por Javascript, es necesario un navegador"
   ]
  },
  {
   "cell_type": "markdown",
   "id": "74badce9-1753-489f-85a3-cb84f955b169",
   "metadata": {},
   "source": [
    "## ¿Qué es un CAPTCHA?\n",
    "Un test CAPTCHA está diseñado para determinar si un usuario en línea es realmente un humano y no un bot. CAPTCHA es un acrónimo que significa \"Prueba de Turing pública completamente automatizada para diferenciar computadoras de humanos\"."
   ]
  },
  {
   "cell_type": "markdown",
   "id": "c2124c1d-04e3-451f-ac1e-cc24d165e2d0",
   "metadata": {},
   "source": [
    "## ¿Qué es un CAPTCHA?\n",
    "Un test CAPTCHA está diseñado para determinar si un usuario en línea es realmente un humano y no un bot. CAPTCHA es un acrónimo que significa \"Prueba de Turing pública completamente automatizada para diferenciar computadoras de humanos\"."
   ]
  },
  {
   "cell_type": "markdown",
   "id": "b8dba1f2-0b37-4cd4-bf2e-ac647f05b835",
   "metadata": {},
   "source": [
    "Hay tres maneras de resolver un capcha:"
   ]
  },
  {
   "cell_type": "markdown",
   "id": "90ede93d-ecce-4e65-bb6a-433f2a33a08a",
   "metadata": {},
   "source": [
    "- Accediendo directamente con la API (Application Programming Interface), técnicamente no es web scraping. \n",
    "- Servicios de resolución de captchas: [2captcha](https://2captcha.com), por ejemplo.\n",
    "- Automatización del navegador: automatización de interacciones del navegador, incluida la resolución de captchas."
   ]
  },
  {
   "cell_type": "markdown",
   "id": "7f67bb5a-a49e-4dc4-aef3-e4a1e189b0a1",
   "metadata": {},
   "source": [
    "Hay tres maneras de resolver un capcha:"
   ]
  },
  {
   "cell_type": "markdown",
   "id": "264d38af-5bdb-4ab5-bf95-dd1e2b8b5d3e",
   "metadata": {},
   "source": [
    "- Accediendo directamente con la API (Application Programming Interface), técnicamente no es web scraping. \n",
    "- Servicios de resolución de captchas: [2captcha](https://2captcha.com), por ejemplo.\n",
    "- Automatización del navegador: automatización de interacciones del navegador, incluida la resolución de captchas."
   ]
  },
  {
   "cell_type": "code",
   "execution_count": null,
   "id": "601da7bb-7c32-44bc-b3e6-e09de4c4d9e7",
   "metadata": {},
   "outputs": [],
   "source": [
    "import requests\n",
    "from bs4 import BeautifulSoup as bs\n",
    "from pathlib import Path\n",
    "import zipfile\n",
    "from zipfile import error as zipfile_error\n",
    "import time\n",
    "\n",
    "from selenium import webdriver\n",
    "from selenium.webdriver.common.by import By\n",
    "from selenium.webdriver.support.ui import Select\n",
    "from selenium.webdriver.chrome.service import Service"
   ]
  },
  {
   "cell_type": "markdown",
   "id": "46d528f7-356c-424a-96e4-50ba3690d582",
   "metadata": {},
   "source": [
    "NOTA: las versiones del navegador y del driver tienen que coincidir, para navegadores recientes es necesario usar la versión correspondiente de acuerdo a su sistema operativo: https://googlechromelabs.github.io/chrome-for-testing/"
   ]
  },
  {
   "cell_type": "code",
   "execution_count": null,
   "id": "f41d27a6-def5-40f5-b182-b65acd628551",
   "metadata": {},
   "outputs": [],
   "source": [
    "URL = \"https://storage.googleapis.com/chrome-for-testing-public\"\n",
    "DRIVER_VERSION = \"129.0.6668.100\"\n",
    "\n",
    "# Usuarios MacOS\n",
    "OS_PLATFORM = \"mac-x64\"\n",
    "\n",
    "# Usuarios Windows\n",
    "# OS_PLATFORM = \"win64\"\n",
    "\n",
    "DRIVER = f\"{URL}/{DRIVER_VERSION}/{OS_PLATFORM}/chromedriver-{OS_PLATFORM}.zip\""
   ]
  },
  {
   "cell_type": "code",
   "execution_count": null,
   "id": "abe079d2-6f5f-4da8-99e3-491f8949375d",
   "metadata": {},
   "outputs": [],
   "source": [
    "download_url = MYDRIVER\n",
    "download_path = Path.home() / Path(download_url).name\n",
    "\n",
    "try:\n",
    "    response = requests.get(download_url, stream=True)\n",
    "    response.raise_for_status()  \n",
    "    with open(download_path, \"wb\") as f:\n",
    "        for chunk in response.iter_content(1024):\n",
    "            f.write(chunk)\n",
    "\n",
    "    print(f\"Downloaded file: {download_path}\")\n",
    "except requests.exceptions.RequestException as e:\n",
    "    print(f\"Download failed: {e}\")\n",
    "    exit(1)\n",
    "\n",
    "try:\n",
    "    with zipfile.ZipFile(download_path, 'r') as zip_ref:\n",
    "        zip_ref.extractall(Path.home())\n",
    "    print(f\"Extracted files to: {Path.home()}\")\n",
    "except zipfile.ZipException as e:\n",
    "    print(f\"Extraction failed: {e}\")\n",
    "    exit(1)"
   ]
  },
  {
   "cell_type": "markdown",
   "id": "c7814b5c-8c0c-4811-a4ea-1211c2ad444b",
   "metadata": {},
   "source": [
    "NOTA: en sistemas Linux y MacOS es necesario agregar permisos de ejecución. En Windows ésto **NO** es necesario."
   ]
  },
  {
   "cell_type": "code",
   "execution_count": null,
   "id": "5a9ef396-2697-47cf-ac9a-d1f6ea27b813",
   "metadata": {},
   "outputs": [],
   "source": [
    "!echo $OS_PLATFORM"
   ]
  },
  {
   "cell_type": "code",
   "execution_count": null,
   "id": "0124205f-c990-4b87-9869-06c37fb584a3",
   "metadata": {},
   "outputs": [],
   "source": [
    "DRIVER = str(Path.home() / f\"chromedriver-{OS_PLATFORM}/chromedriver\")\n",
    "BROWSER = r\"/Applications/Brave Browser.app/Contents/MacOS/Brave Browser\"\n",
    "# BROWSER = r\"C:\\Program Files\\Google\\Chrome\\Application\\chrome.exe\""
   ]
  },
  {
   "cell_type": "code",
   "execution_count": null,
   "id": "24c600d9-6c9d-4af9-9313-596e28eb71c0",
   "metadata": {},
   "outputs": [],
   "source": [
    "# ====>\n",
    "def chrome_driver(driver, browser):\n",
    "    \"\"\"\n",
    "    Crea una nueva instancia de Chrome WebDriver con modo incógnito opcional\n",
    "    y desactiva la detección de automatización.\n",
    "\n",
    "    Args:\n",
    "        driver (str): La ruta al ejecutable de ChromeDriver.\n",
    "        browser (str, optional): La ruta a un ejecutable específico de Chrome.\n",
    "            Si no se proporciona, se utilizará el Chrome del sistema predeterminado.\n",
    "\n",
    "    Returns:\n",
    "        webdriver.Chrome: Una nueva instancia de Chrome WebDriver.\n",
    "    \"\"\"\n",
    "    s = Service(driver)\n",
    "\n",
    "    options = webdriver.ChromeOptions()\n",
    "    if browser:\n",
    "        options.binary_location = browser\n",
    "    # options.add_argument(\"-incognito\")\n",
    "    # options.add_argument(\"headless\")\n",
    "    options.add_experimental_option(\"excludeSwitches\", [\"enable-automation\"])\n",
    "\n",
    "    browser = webdriver.Chrome(service=s, options=options)\n",
    "\n",
    "    return browser\n",
    "\n",
    "def get_website(url, driver, browser):\n",
    "    \"\"\"\n",
    "    Obtiene un sitio web utilizando la instancia de Chrome WebDriver proporcionada.\n",
    "\n",
    "    Args:\n",
    "        url (str): La URL del sitio web al que se accederá.\n",
    "        driver (webdriver.Chrome): Una instancia de Chrome WebDriver previamente creada.\n",
    "\n",
    "    Returns:\n",
    "        webdriver.Chrome: La misma instancia de Chrome WebDriver después de navegar a la URL.\n",
    "    \"\"\"\n",
    "    website = chrome_driver(driver, browser)\n",
    "    website.get(url)\n",
    "\n",
    "    # time.sleep(30)\n",
    "\n",
    "    return website"
   ]
  },
  {
   "cell_type": "markdown",
   "id": "c7551285-7862-4d53-bbde-0da1e09bae18",
   "metadata": {},
   "source": [
    "Probemos con Selenium si podemos acceder a la página de www.plataformadetransparencia.org.mx"
   ]
  },
  {
   "cell_type": "code",
   "execution_count": null,
   "id": "f885e082-bb89-44f2-9d63-611fdbab778f",
   "metadata": {},
   "outputs": [],
   "source": [
    "url = \"https://www.plataformadetransparencia.org.mx\"\n",
    "website = get_website(url=url, driver=DRIVER, browser=BROWSER)"
   ]
  },
  {
   "cell_type": "markdown",
   "id": "79762943-ee34-464b-9869-73a1fadd3d53",
   "metadata": {},
   "source": [
    "para usuarios Windows, cuando no definimos el valor `browser` Selenium usará el valor predeterminado para el ejecutable de Chrome."
   ]
  },
  {
   "cell_type": "code",
   "execution_count": null,
   "id": "b9444c21-ab34-41b7-9c92-611664c73e94",
   "metadata": {},
   "outputs": [],
   "source": [
    "# website = get_website(url=url, driver=DRIVER)"
   ]
  },
  {
   "cell_type": "code",
   "execution_count": null,
   "id": "fab7ac27-75b0-4f77-a285-1f613318eafb",
   "metadata": {},
   "outputs": [],
   "source": [
    "soup = bs(website.page_source, \"html.parser\")"
   ]
  },
  {
   "cell_type": "code",
   "execution_count": null,
   "id": "20af15d4-5ac3-451f-ab3b-01fab382830a",
   "metadata": {},
   "outputs": [],
   "source": [
    "print(soup.prettify())"
   ]
  },
  {
   "cell_type": "code",
   "execution_count": null,
   "id": "1ed68849-e92a-405a-86a7-ec90b9477f94",
   "metadata": {},
   "outputs": [],
   "source": [
    "extract_elements(website.page_source)"
   ]
  },
  {
   "cell_type": "code",
   "execution_count": null,
   "id": "109f0acf-4cce-4f50-a634-563588953af0",
   "metadata": {},
   "outputs": [],
   "source": [
    "website.close()"
   ]
  },
  {
   "cell_type": "code",
   "execution_count": null,
   "id": "e5e5f25c-2a96-4a6e-ac68-609da903907d",
   "metadata": {},
   "outputs": [],
   "source": [
    "soup"
   ]
  },
  {
   "cell_type": "markdown",
   "id": "a3c00bb8-5036-45bf-bf90-6f7de3c242e0",
   "metadata": {},
   "source": [
    "Ahora, intentémoslo con la opción incógnito activada, quita el comentario (`#`) a la línea: `options.add_argument(\"-incognito\")` y ejecuta las celdas desde `# ====>` ¿Notas alguna diferencia?"
   ]
  },
  {
   "cell_type": "markdown",
   "id": "37f72565-837f-4b97-a114-b28ed7daa2c0",
   "metadata": {},
   "source": [
    "Al utilizar Selenium lanzamos una ventana del navegador por sesión, lo cual es bueno cuando estamos depurando nuestro código hasta obtener la información deseada. Posteriormente para las tareas de automatización, que pueden consumir recursos considerables de nuestra computadora, podemos utilizar el navegador sin una interfaz de usuario visible con la opción `options.add_argument(\"headless\")`. ¿Qué pasa si intentas utilizar ambas opciones,  `incognito` y `headless`? Recuerda, desde la posición `# ====>`."
   ]
  },
  {
   "cell_type": "markdown",
   "id": "da6e710a-d2ea-4714-8f3e-c80e1795c6cf",
   "metadata": {},
   "source": [
    "SPOILER: La opción `headless` dispara el CAPTCHA **¿Por qué?**"
   ]
  },
  {
   "cell_type": "markdown",
   "id": "ca754696-c15c-4256-a357-63a0a1ad262a",
   "metadata": {},
   "source": [
    "**Tipos de CAPTCHA**:\n",
    "\n",
    "- CAPTCHA Clásico: solicita a los usuarios que identifiquen letras distorsionadas. Para superar la prueba, los usuarios deben interpretar el texto distorsionado, escribir las letras correctas en un campo de formulario y enviar el formulario. Si las letras no coinciden, se solicita a los usuarios que vuelvan a intentarlo.\n",
    "- reCAPTCHA: es más avanzado, requieren que los usuarios ingresen imágenes de texto que las computadoras tienen dificultades para descifrar. A diferencia de los CAPTCHA normales, reCAPTCHA obtiene el texto de imágenes del mundo real como imágenes de direcciones de calles, texto de libros impresos, texto de periódicos antiguos, etc.   "
   ]
  }
 ],
 "metadata": {
  "kernelspec": {
   "display_name": "Python 3 (ipykernel)",
   "language": "python",
   "name": "python3"
  },
  "language_info": {
   "codemirror_mode": {
    "name": "ipython",
    "version": 3
   },
   "file_extension": ".py",
   "mimetype": "text/x-python",
   "name": "python",
   "nbconvert_exporter": "python",
   "pygments_lexer": "ipython3",
   "version": "3.12.1"
  }
 },
 "nbformat": 4,
 "nbformat_minor": 5
}
