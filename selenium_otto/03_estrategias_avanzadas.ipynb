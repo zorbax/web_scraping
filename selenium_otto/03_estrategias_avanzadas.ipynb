{
 "cells": [
  {
   "cell_type": "markdown",
   "id": "c86a40f8-46bd-472f-b74e-881b0b19eb96",
   "metadata": {},
   "source": [
    "# Estrategias para vencer el bloqueo al hacer web scraping"
   ]
  },
  {
   "cell_type": "markdown",
   "id": "f0ddea55-0c59-4e7d-becb-e34361d033fd",
   "metadata": {},
   "source": [
    "1. **Detección de Chromedriver**: hay servicios que puede identificar si un navegador está controlado por herramientas de automatización como Chromedriver al analizar ciertos comportamientos y propiedades del navegador.\n",
    "\n",
    "2. **Huellas Digitales del Dispositivo**: Si se utiliza la misma huella digital de navegador para un gran número de visitas, puede identificarse como comportamiento de máquina. Es necesario utilizar diferentes huellas digitales de navegador efectivas para distribuir las visitas.\n",
    "\n",
    "3. **Detección de Proxies IP**: Bloqueo de ubicaciones IP maliciosas y limitación de la frecuencia de las solicitudes.\n",
    "\n",
    "4. **Autenticidad del Navegador**: Verificar si los atributos del navegador y la información de la solicitud son anormales, como si el User-Agent en el encabezado está emitido por código Python y si el navegador declarado por el User-Agent tiene atributos correspondientes.\n",
    "\n",
    "5. **Desafío JavaScript**: Enviar código JavaScript al usuario. Por lo general, los rastreadores no tienen la capacidad de renderizar directamente el JS. \n",
    "\n",
    "6. **Cookies**: Al verificar el período de validez de cf_clearance, se actualiza y rastrea continuamente si el comportamiento del usuario es anormal.\n",
    "\n",
    "7. **Huella Digital TLS**: Los navegadores generalmente usan HTTP/2, pero las solicitudes realizadas por lenguajes de programación suelen predeterminarse a HTTP/1.1."
   ]
  },
  {
   "cell_type": "code",
   "execution_count": null,
   "id": "1c46d317-2ef6-407a-a9cd-039750f793fc",
   "metadata": {},
   "outputs": [],
   "source": [
    "import sys"
   ]
  },
  {
   "cell_type": "code",
   "execution_count": null,
   "id": "a5b796d2-a13c-4cf7-bf29-2a7348927903",
   "metadata": {},
   "outputs": [],
   "source": [
    "!{sys.executable} -m pip install undetected_chromedriver selenium_stealth"
   ]
  },
  {
   "cell_type": "code",
   "execution_count": null,
   "id": "298f5faf-d954-43ee-8102-188c8d699fe9",
   "metadata": {},
   "outputs": [],
   "source": [
    "import undetected_chromedriver as uc\n",
    "from selenium_stealth import stealth\n",
    "\n",
    "import time\n",
    "from pathlib import Path\n",
    "\n",
    "from bs4 import BeautifulSoup as bs\n",
    "\n",
    "from selenium import webdriver\n",
    "from selenium.webdriver.chrome.service import Service\n",
    "from selenium.webdriver.common.by import By\n",
    "from selenium.webdriver.support.ui import WebDriverWait\n",
    "from selenium.webdriver.support import expected_conditions as EC"
   ]
  },
  {
   "cell_type": "code",
   "execution_count": null,
   "id": "66a4969e-35df-4868-85a4-f22973fc1d8c",
   "metadata": {},
   "outputs": [],
   "source": [
    "# Usuarios MacOS\n",
    "OS_PLATFORM = \"mac-x64\"\n",
    "\n",
    "# Usuarios Windows\n",
    "# OS_PLATFORM = \"win64\"\n",
    "\n",
    "DRIVER = str(Path.home() / f\"chromedriver-{OS_PLATFORM}/chromedriver\")\n",
    "BROWSER = r\"/Applications/Brave Browser.app/Contents/MacOS/Brave Browser\"\n",
    "# BROWSER = r\"C:\\Program Files\\Google\\Chrome\\Application\\chrome.exe\""
   ]
  },
  {
   "cell_type": "code",
   "execution_count": null,
   "id": "ecfb3afb-c7fc-4dc7-8932-d799fa15cabf",
   "metadata": {},
   "outputs": [],
   "source": [
    "def get_website(url, browser, headless=True, proxy_url=None, wait_=20):\n",
    "    user_agent = \"Mozilla/5.0 (Windows NT 10.0; Win64; x64) AppleWebKit/537.36 (KHTML, like Gecko) Chrome/121.0.6167.140 Safari/537.36\"\n",
    "    options = uc.ChromeOptions()\n",
    "    options.binary_location = browser\n",
    "    if headless:\n",
    "        options.add_argument('--headless=new')\n",
    "    options.add_argument(\"--start-maximized\")\n",
    "    if proxy_url:\n",
    "        options.add_argument(f\"--proxy-server={proxy_url}\")\n",
    "    options.add_argument(\"user-agent={}\".format(user_agent))\n",
    "    driver = uc.Chrome(options=options)\n",
    "\n",
    "    stealth(driver,\n",
    "            languages=[\"en-US\", \"en\"],\n",
    "            vendor=\"Google Inc.\",\n",
    "            platform=\"Win32\",\n",
    "            webgl_vendor=\"Intel Inc.\",\n",
    "            renderer=\"Intel Iris OpenGL Engine\",\n",
    "            fix_hairline=True,\n",
    "            )\n",
    "\n",
    "    driver.get(url)\n",
    "    WebDriverWait(driver, wait_).until(\n",
    "        lambda d: d.execute_script('return document.readyState') == 'complete')\n",
    "    \n",
    "    return driver"
   ]
  },
  {
   "cell_type": "code",
   "execution_count": null,
   "id": "6be463ee-fc16-4643-b43e-7d5223ce9911",
   "metadata": {},
   "outputs": [],
   "source": [
    "url = 'https://www.plataformadetransparencia.org.mx'\n",
    "website = get_website(url=url,\n",
    "                      browser=BROWSER, \n",
    "                      headless=False)"
   ]
  },
  {
   "cell_type": "markdown",
   "id": "09d0d1cf-7a45-48c0-8d85-ced8b4cc3db6",
   "metadata": {},
   "source": [
    "¿Qué pasa si escaneamos la página en esta página web https://radar.cloudflare.com/scan?"
   ]
  },
  {
   "cell_type": "markdown",
   "id": "a925d3a6-9b03-4abd-a3d6-02e74d1a918d",
   "metadata": {},
   "source": [
    "Usemos BeautifulSoup para imprimir el contenido de la página en un formato \"bonito\""
   ]
  },
  {
   "cell_type": "code",
   "execution_count": null,
   "id": "cfcc68c5-96d8-47c3-b6b0-808807252823",
   "metadata": {},
   "outputs": [],
   "source": [
    "soup = bs(website.page_source, \"html.parser\")\n",
    "print(soup.prettify())"
   ]
  },
  {
   "cell_type": "markdown",
   "id": "e0515fe1-5a5b-4d54-9bac-a2a62b47a12f",
   "metadata": {},
   "source": [
    "## Localizadores de Selenium:"
   ]
  },
  {
   "cell_type": "markdown",
   "id": "a1e6e142-379f-458d-b730-69f41c11b910",
   "metadata": {},
   "source": [
    "Son identificadores que se utilizan para encontrar elementos específicos en una página web. Loas más comunes son:\n",
    "\n",
    "* Nombre de Clase: Seleccionar elementos con el atributo class. Ejemplo: `driver.find_element(By.CLASS_NAME, \"información\")`\n",
    "\n",
    "* Selector CSS: Utiliza selectores CSS para localizar elementos. Ejemplo (para el elemento con id \"nombre\"): `driver.find_element(By.CSS_SELECTOR, \"#nombre\")`\n",
    "\n",
    "* ID: Utiliza el atributo id único de un elemento. Ejemplo: `driver.find_element(By.ID, \"apellido\")`\n",
    "\n",
    "* Nombre:  Identifica elementos con el atributo name. Ejemplo (para la casilla de verificación \"boletín\"): `driver.find_element(By.NAME, \"boletin\")`\n",
    "\n",
    "* Texto del Enlace: Localiza enlaces basados en el texto que se muestra. Ejemplo: `driver.find_element(By.LINK_TEXT, \"Página Oficial de Selenium\")`\n",
    "\n",
    "* Texto Parcial del Enlace: Selecciona enlaces usando una parte de su texto. Ejemplo: `driver.find_element(By.PARTIAL_LINK_TEXT, \"Página Oficial\")`\n",
    "\n",
    "* Nombre de la Etiqueta: Utiliza la propia etiqueta HTML como localizador. Ejemplo (para la etiqueta \"a\" de un enlace): `driver.find_element(By.TAG_NAME, \"a\")`\n",
    "\n",
    "* XPath: Emplea expresiones XPath para navegar por la estructura del documento HTML y localizar elementos. Ejemplo (para el botón de option F): `driver.find_element(By.XPATH, \"//input[@value='f']\")`"
   ]
  },
  {
   "cell_type": "markdown",
   "id": "20f40d30-753d-4095-93e3-a58f33c91330",
   "metadata": {},
   "source": [
    "## ¿Debo usar selectores XPATH o CSS? "
   ]
  },
  {
   "cell_type": "markdown",
   "id": "59904b72-19e5-4586-9766-fff6b8fc2d5b",
   "metadata": {},
   "source": [
    "**R.- DEPENDE:**\n",
    "\n",
    "El *XPATH*, también conocido como XML PATH, es un lenguaje de consulta para esquemas XML. Permite localizar partes específicas dentro de un documento XML. Las expresiones XPAT se mueven a través del documento, desde el nodo raíz hasta cualquier elemento deseado en una página web.\n",
    "\n",
    "**Sintaxis Básica de XPath**\n",
    "\n",
    "| Expresión | Descripción |\n",
    "|---|---|\n",
    "| `node_name` | Selecciona todos los nodos con este nombre. |\n",
    "| `/` | Selecciona desde el nodo raíz. |\n",
    "| `.` | Selecciona el nodo actual. |\n",
    "| `//` | Selecciona nodos desde el nodo actual que coinciden con la selección. |\n",
    "| `@` | Selecciona atributos. |\n",
    "| `..` | Selecciona el padre del nodo actual. |\n",
    "| `*` | Selecciona cualquier nodo elemento. |\n",
    "| `*@` | Selecciona cualquier atributo. |\n",
    "| `node()` | Selecciona cualquier nodo. |\n",
    "\n",
    "Por otra parte, un *selector CSS* es una representación de cadena de diferentes etiquetas HTML, clases, atributos e IDs. Algunas ventajas son su sintaxis simple y es más fácil de aprender que XPATH, lo malo es que si el DOM cambia, los selectores dejarán de funcionar.\n",
    "\n",
    "* XPATH absoluto (**/**): `/html/body/div[2]/div[1]/div/h4[1]/b/html[1]/body[1]/div[2]/div[1]/div[1]/h4[1]/b[1]`\n",
    "* Expresión CSS absoluta: `html.body.div.p.div.a`\n",
    "\n",
    "El problema es ue si algo cambia, la expresión se romperá.\n",
    "\n",
    "Para esos casos es mejor usar posiciones relativas\n",
    "\n",
    "* Expresión XPATH relativa (**//**): `//tagname[@attribute=‘value’]`\n",
    "* Expresión CSS relativa: `tagname[attribute=‘value’]`"
   ]
  },
  {
   "cell_type": "code",
   "execution_count": null,
   "id": "8b53f36d-b463-4160-9f80-9008d3ac42f8",
   "metadata": {},
   "outputs": [],
   "source": [
    "xpath_card = \"/html/body/app-root/app-skeleton/div/div/div/app-home/div[3]/div/div/div/div[1]/div\"\n",
    "card_element = website.find_element(By.XPATH, xpath_card)\n",
    "card_element.click()"
   ]
  },
  {
   "cell_type": "markdown",
   "id": "1ba0c71d-3eec-4f8d-8b6a-4bacff9a8fa3",
   "metadata": {},
   "source": [
    "Después de varios intentos, puede que Cloudfare bloquee tu IP. Podemos probar utilizando un proxy, un sistema o enrutador que actúa como intermediario proporcionando una nueva IP de acceso: https://www.proxynova.com/proxy-server-list/country-mx/"
   ]
  },
  {
   "cell_type": "code",
   "execution_count": null,
   "id": "d0a9ef02-b212-4e96-8a83-da316e9bfe62",
   "metadata": {},
   "outputs": [],
   "source": [
    "PROXY_URL = \"189.240.60.166:9090\"\n",
    "website = get_website(url=url,\n",
    "                      browser=BROWSER,\n",
    "                      proxy_url=PROXY_URL,\n",
    "                      headless=False)"
   ]
  },
  {
   "cell_type": "code",
   "execution_count": null,
   "id": "e9fc3ad5-af46-4634-98ac-6466e17cc413",
   "metadata": {},
   "outputs": [],
   "source": [
    "xpath_card = \"/html/body/app-root/app-skeleton/div/div/div/app-home/div[3]/div/div/div/div[1]/div\"\n",
    "card_element = website.find_element(By.XPATH, xpath_card)\n",
    "card_element.click()"
   ]
  },
  {
   "cell_type": "markdown",
   "id": "b8008ec0-96c5-4597-b348-756a73ef93f3",
   "metadata": {
    "scrolled": true
   },
   "source": [
    "Puedes ser bloqueado de igual manera 😢"
   ]
  },
  {
   "cell_type": "markdown",
   "id": "d3864a52-e7e9-4e56-a533-1176ee441b5f",
   "metadata": {},
   "source": [
    "No se les olvide cerrar el driver."
   ]
  },
  {
   "cell_type": "code",
   "execution_count": null,
   "id": "ba4c47b7-4260-401b-a979-8c31a395e4d1",
   "metadata": {},
   "outputs": [],
   "source": [
    "website.close()"
   ]
  },
  {
   "cell_type": "markdown",
   "id": "d5332c06-3f96-4883-8f48-011356a09b5c",
   "metadata": {
    "scrolled": true
   },
   "source": [
    "En algunos intentos pude tener éxito agregando un tiempo de espera al elemento 'clickeable'"
   ]
  },
  {
   "cell_type": "code",
   "execution_count": null,
   "id": "a0c6d531-e6e0-4eb6-8eec-daa043fe5c43",
   "metadata": {},
   "outputs": [],
   "source": [
    "website = get_website(url=url,\n",
    "                      browser=BROWSER,\n",
    "                      headless=False)"
   ]
  },
  {
   "cell_type": "code",
   "execution_count": null,
   "id": "a04eaac2-383b-4e29-b860-a7779cf396d3",
   "metadata": {},
   "outputs": [],
   "source": [
    "clickable_element = WebDriverWait(website, 20).until(\n",
    "    EC.element_to_be_clickable(By.XPATH, xpath_card)\n",
    ")\n",
    "clickable_element.click()"
   ]
  },
  {
   "cell_type": "code",
   "execution_count": null,
   "id": "29c0f629-d317-4919-9088-01acc9f74c1e",
   "metadata": {},
   "outputs": [],
   "source": [
    "Puedes ser bloqueado de igual manera X2 😢"
   ]
  },
  {
   "cell_type": "markdown",
   "id": "9b00388e-cf4f-4158-bcd1-fdd065e7035f",
   "metadata": {},
   "source": [
    "A continuación les dejo algunos elementos para poder seleccionar con `website.find_element(By.XPATH, MIELEMENTO)` donde podemos reemplazar MIELEMENTO por los siguientes valores."
   ]
  },
  {
   "cell_type": "code",
   "execution_count": null,
   "id": "6c180a7f-f77e-401d-b333-9455793e5873",
   "metadata": {},
   "outputs": [],
   "source": [
    "entidad = '//*[@id=\"formEntidadFederativa:selectEntidad\"]/option[7]'"
   ]
  },
  {
   "cell_type": "code",
   "execution_count": null,
   "id": "296bc7b2-f40a-4c08-bc21-035a321a86f0",
   "metadata": {},
   "outputs": [],
   "source": [
    "clickable_element = WebDriverWait(website, 20).until(\n",
    "    EC.element_to_be_clickable(By.XPATH, entidad)\n",
    ")\n",
    "clickable_element.click()"
   ]
  },
  {
   "cell_type": "code",
   "execution_count": null,
   "id": "769d05f6-6e50-4955-baee-a49813d7de2e",
   "metadata": {},
   "outputs": [],
   "source": [
    "options_dict = {\n",
    "    33: \"Federación\",\n",
    "    1: \"Aguascalientes\",\n",
    "    2: \"Baja California\",\n",
    "    3: \"Baja California Sur\",\n",
    "    4: \"Campeche\",\n",
    "    5: \"Coahuila de Zaragoza\",\n",
    "    6: \"Colima\",\n",
    "    7: \"Chiapas\",\n",
    "    8: \"Chihuahua\",\n",
    "    9: \"Ciudad de México\",\n",
    "    10: \"Durango\",\n",
    "    11: \"Guanajuato\",\n",
    "    12: \"Guerrero\",\n",
    "    13: \"Hidalgo\",\n",
    "    14: \"Jalisco\",\n",
    "    15: \"México\",\n",
    "    16: \"Michoacán de Ocampo\",\n",
    "    17: \"Morelos\",\n",
    "    18: \"Nayarit\",\n",
    "    19: \"Nuevo León\",\n",
    "    20: \"Oaxaca\",\n",
    "    21: \"Puebla\",\n",
    "    22: \"Querétaro\",\n",
    "    23: \"Quintana Roo\",\n",
    "    24: \"San Luis Potosí\",\n",
    "    25: \"Sinaloa\",\n",
    "    26: \"Sonora\",\n",
    "    27: \"Tabasco\",\n",
    "    28: \"Tamaulipas\",\n",
    "    29: \"Tlaxcala\",\n",
    "    30: \"Veracruz\",\n",
    "    31: \"Yucatán\",\n",
    "    32: \"Zacatecas\"\n",
    "}"
   ]
  },
  {
   "cell_type": "code",
   "execution_count": null,
   "id": "2514a469-e597-464a-9183-22181942e77e",
   "metadata": {},
   "outputs": [],
   "source": [
    "sujeto_obligado = //*[@id=\"formEntidadFederativa:cboSujetoObligado\"]"
   ]
  },
  {
   "cell_type": "code",
   "execution_count": null,
   "id": "313f5a92-004e-4c0c-be05-4362314dae43",
   "metadata": {},
   "outputs": [],
   "source": [
    "clickable_element = WebDriverWait(website, 20).until(\n",
    "    EC.element_to_be_clickable(By.XPATH, sujeto_obligado)\n",
    ")\n",
    "clickable_element.click()"
   ]
  },
  {
   "cell_type": "code",
   "execution_count": null,
   "id": "221c683b-6d97-4e8c-896c-2f2fa3eca692",
   "metadata": {},
   "outputs": [],
   "source": [
    "ejercicio = //*[@id=\"formEntidadFederativa:areaPeriodo\"]"
   ]
  },
  {
   "cell_type": "code",
   "execution_count": null,
   "id": "9789c953-9964-4630-811f-b021c0bb0087",
   "metadata": {},
   "outputs": [],
   "source": [
    "tipo_obligacion = //*[@id=\"formEntidadFederativa:areaSelectTipoObligacion\"]"
   ]
  },
  {
   "cell_type": "code",
   "execution_count": null,
   "id": "91ea20d0-4c8b-45c9-ab74-c3f9d5561475",
   "metadata": {},
   "outputs": [],
   "source": [
    "obligacion_general = //*[@id=\"formEntidadFederativa:areaSelectTipoObligacion\"]/div[2]/div/span[1]\n",
    "obligacion_especifica = //*[@id=\"formEntidadFederativa:areaSelectTipoObligacion\"]/div[2]/div/span[2]"
   ]
  },
  {
   "cell_type": "code",
   "execution_count": null,
   "id": "0a6919b0-d4ab-42df-953c-b78a7325ef7e",
   "metadata": {},
   "outputs": [],
   "source": [
    "todas_obligaciones = \"//*[@id='formEntidadFederativa:j_idt856']\"\n",
    "\n",
    "obligaciones = {\n",
    "    'todas_obligaciones': \"//*[@id='myNavbar']/ul/li[2]\",\n",
    "    'determinacion_autoridad': \"//*[@id='myNavbar']/ul/li[3]\",\n",
    "    'informes': \"//*[@id='myNavbar']/ul/li[4]\",\n",
    "    'estadisticas': \"//*[@id='myNavbar']/ul/li[5]\",\n",
    "    'atencion_ciudadania': \"//*[@id='myNavbar']/ul/li[6]\",\n",
    "    'indicadores': \"//*[@id='myNavbar']/ul/li[7]\",\n",
    "    'organizaion_interna': \"//*[@id='myNavbar']/ul/li[8]\",\n",
    "    'uso_recursos_publicos': \"//*[@id='myNavbar']/ul/li[9]\"\n",
    "}"
   ]
  }
 ],
 "metadata": {
  "kernelspec": {
   "display_name": "Python 3 (ipykernel)",
   "language": "python",
   "name": "python3"
  },
  "language_info": {
   "codemirror_mode": {
    "name": "ipython",
    "version": 3
   },
   "file_extension": ".py",
   "mimetype": "text/x-python",
   "name": "python",
   "nbconvert_exporter": "python",
   "pygments_lexer": "ipython3",
   "version": "3.12.1"
  }
 },
 "nbformat": 4,
 "nbformat_minor": 5
}
