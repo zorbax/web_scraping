{
 "cells": [
  {
   "cell_type": "markdown",
   "id": "745a1812-70da-492a-b9a9-056c86210a0d",
   "metadata": {},
   "source": [
    "# Descripción general de la estructura HTML"
   ]
  },
  {
   "cell_type": "markdown",
   "id": "e2b65a25-9b08-4753-84a1-356502ea9300",
   "metadata": {},
   "source": [
    "* Una página web se construye utilizando **HTML** (HyperText Markup Language), que define la estructura y el contenido de la página.\n",
    "\n",
    "* El **DOM** (Document Object Model), Modelo de Objetos del Documento, es la representación que los navegadores crean a partir del HTML, permitiendo interpretar y manipular la estructura de la página de manera dinámica."
   ]
  },
  {
   "cell_type": "markdown",
   "id": "723d1892-bab7-4834-affb-a553983f10f9",
   "metadata": {},
   "source": [
    "![](./imgs/dom_html.png)"
   ]
  },
  {
   "cell_type": "markdown",
   "id": "9ec40a3c-c9b5-4bf3-be9f-49f524c674d2",
   "metadata": {},
   "source": [
    "Dicho de otra manera\n",
    "\n",
    "![](imgs/dom_castle.png)\n",
    "\n",
    "\n",
    "HTML: los planos que describen la estructura y el diseño  \n",
    "\n",
    "DOM: la construcción, la versión dinámica del plano donde los elementos cobran vida.\n"
   ]
  },
  {
   "cell_type": "markdown",
   "id": "532edbe9-11c2-4c68-bd8c-c1ce8871575e",
   "metadata": {},
   "source": [
    "## Componentes HTML más comunes\n",
    "\n",
    "**Elementos:**\n",
    "\n",
    "1. **`<html>`:** El elemento raíz de un documento HTML.\n",
    "2. **`<head>`:** Contiene metadatos sobre la página, como el título y las hojas de estilo.\n",
    "3. **`<body>`:** Contiene el contenido visible de la página.\n",
    "4. **`<h1-h6>`:** Elementos de encabezado, utilizados para estructurar el contenido.\n",
    "5. **`<p>`:** Elemento de párrafo, utilizado para bloques de texto.\n",
    "6. **`<a>`:** Elemento de ancla, utilizado para crear enlaces.\n",
    "7. **`<img>`:** Elemento de imagen, utilizado para incrustar imágenes.\n",
    "8. **`<ul>` y `<ol>`:** Elementos de lista ordenados y no ordenados, utilizados para listas.\n",
    "9. **`<li>`:** Elemento de elemento de lista, utilizado dentro de listas.\n",
    "10. **`<div>` y `<span>`:** Elementos contenedores genéricos, utilizados para agrupar y dar estilo al contenido.\n",
    "\n",
    "**Atributos:**\n",
    "\n",
    "1. **`id`:** Identificador único para un elemento.\n",
    "2. **`class`:** Se utiliza para agrupar elementos con estilos o comportamientos similares.\n",
    "3. **`src`:** Especifica la URL de un recurso, como una imagen o un script.\n",
    "4. **`href`:** Especifica la URL de un recurso vinculado, como una página o un archivo.\n",
    "5. **`alt`:** Proporciona texto alternativo para imágenes, utilizado por lectores de pantalla.\n",
    "6. **`style`:** Declaraciones de estilo en línea para un elemento.\n",
    "7. **`type`:** Especifica el tipo de contenido, como \"text/html\" o \"image/jpeg\".\n",
    "8. **`name`:** Se utiliza para elementos de formulario, como campos de entrada.\n",
    "9. **`target`:** Especifica dónde abrir un recurso vinculado (p. ej., \"_blank\" para una nueva pestaña).\n",
    "10. **`title`:** Proporciona una información sobre herramientas para un elemento.\n",
    "\n",
    "**Clases:**\n",
    "\n",
    "1. **`container`:** Una clase común que se utiliza para definir un contenedor para elementos.\n",
    "2. **`row` y `col`:** Clases que se utilizan para diseños basados en cuadrículas.\n",
    "3. **`button`:** Una clase que se aplica a menudo a elementos de botón.\n",
    "4. **`nav`:** Una clase que se utiliza para elementos de navegación.\n",
    "5. **`header` y `footer`:** Clases que se utilizan para las secciones de encabezado y pie de página de una página.\n",
    "6. **`card`:** Una clase que se utiliza para elementos similares a tarjetas.\n",
    "7. **`modal`:** Una clase que se utiliza para cuadros de diálogo modales.\n",
    "8. **`dropdown`:** Una clase que se utiliza para menús desplegables.\n",
    "9. **`alert`:** Clase utilizada para mensajes de alerta.\n",
    "10. **`input-group`:** Clase utilizada para agrupar elementos de entrada.\n",
    "\n",
    "**ID:**\n",
    "\n",
    "1. **`main`:** ID común para el área de contenido principal de una página.\n",
    "2. **`header` y `footer`:** ID que se utilizan a menudo para las secciones de encabezado y pie de página.\n",
    "3. **`content`:** ID genérico para el área de contenido principal.\n",
    "4. **`nav`:** ID utilizado para la sección de navegación.\n",
    "5. **`logo`:** ID utilizado para la imagen del logotipo.\n",
    "6. **`search-bar`:** ID utilizado para la barra de búsqueda.\n",
    "7. **`form`:** ID utilizado para un elemento de formulario.\n",
    "8. **`modal`:** ID utilizado para un cuadro de diálogo modal.\n",
    "9. **`dropdown-menu`:** ID utilizado para un menú desplegable.\n",
    "10. **`alert-message`:** Un identificador utilizado para un mensaje de alerta."
   ]
  },
  {
   "cell_type": "markdown",
   "id": "944b4473-5893-4a78-92ab-f69a691bb87f",
   "metadata": {},
   "source": [
    "¿Puedes identificar cuántos elementos están presentes en el siguiente ejemplo?"
   ]
  },
  {
   "cell_type": "code",
   "execution_count": null,
   "id": "4ce6fcd0-2581-41a3-8928-98387c177a13",
   "metadata": {},
   "outputs": [],
   "source": [
    "ejemplo_html=\"\"\"\n",
    "<!DOCTYPE html>\n",
    "<html>\n",
    "<head>\n",
    "    <title>Mi Sitio Web de Ejemplo</title>\n",
    "    <meta charset=\"UTF-8\">\n",
    "    <meta name=\"description\" content=\"Un sitio web de ejemplo para demostrar componentes comunes de HTML.\">\n",
    "    <link rel=\"stylesheet\" href=\"styles.css\">\n",
    "</head>\n",
    "<body>\n",
    "    <header id=\"header\" class=\"header\">\n",
    "        <h1>Bienvenido a Mi Sitio Web de Ejemplo</h1>\n",
    "        <nav id=\"nav\" class=\"nav\">\n",
    "            <ul>\n",
    "                <li><a href=\"#home\" class=\"nav-link\">Inicio</a></li>\n",
    "                <li><a href=\"#about\" class=\"nav-link\">Acerca de</a></li>\n",
    "                <li><a href=\"#contact\" class=\"nav-link\">Contacto</a></li>\n",
    "            </ul>\n",
    "        </nav>\n",
    "    </header>\n",
    "\n",
    "    <main id=\"main\" class=\"container\">\n",
    "        <section id=\"content\">\n",
    "            <h2>Sobre Nosotros</h2>\n",
    "            <p>Somos una empresa que valora la excelencia y la innovación.</p>\n",
    "            <img src=\"logo.png\" alt=\"\" id=\"logo\" class=\"logo\">\n",
    "        </section>\n",
    "\n",
    "        <section id=\"services\">\n",
    "            <h2>Nuestros Servicios</h2>\n",
    "            <ul>\n",
    "                <li>Desarrollo Web</li>\n",
    "                <li>Desarrollo de Aplicaciones</li>\n",
    "                <li>Optimización SEO</li>\n",
    "            </ul>\n",
    "        </section>\n",
    "\n",
    "        <section id=\"contact\">\n",
    "            <h2>Contáctanos</h2>\n",
    "            <form id=\"form\" class=\"form\">\n",
    "                <label for=\"name\">Nombre:</label>\n",
    "                <input type=\"text\" id=\"name\" name=\"name\" class=\"input-group\">\n",
    "                <label for=\"email\">Correo Electrónico:</label>\n",
    "                <input type=\"email\" id=\"email\" name=\"email\" class=\"input-group\">\n",
    "                <button type=\"submit\" class=\"button\">Enviar</button>\n",
    "            </form>\n",
    "        </section>\n",
    "    </main>\n",
    "\n",
    "    <footer id=\"footer\" class=\"footer\">\n",
    "        <p>© 2024 Mi Sitio Web de Ejemplo</p>\n",
    "    </footer>\n",
    "\n",
    "    <div id=\"modal\" class=\"modal\">\n",
    "        <div class=\"modal-content\">\n",
    "            <span class=\"close-button\">×</span>\n",
    "            <p>Este es un cuadro de diálogo modal.</p>\n",
    "        </div>\n",
    "    </div>\n",
    "</body>\n",
    "</html>\n",
    "\"\"\""
   ]
  },
  {
   "cell_type": "markdown",
   "id": "dd8e0ae4-f1bd-435e-9433-51760e613ab9",
   "metadata": {},
   "source": [
    "## Instalación de paquetes"
   ]
  },
  {
   "cell_type": "code",
   "execution_count": null,
   "id": "97197446-c554-4888-a76c-32c4fb7a3209",
   "metadata": {},
   "outputs": [],
   "source": [
    "import sys"
   ]
  },
  {
   "cell_type": "code",
   "execution_count": null,
   "id": "43c32032-55fb-4daa-8e5e-e1681a0d939d",
   "metadata": {},
   "outputs": [],
   "source": [
    "!{sys.executable} -m pip install beautifulsoup4 selenium"
   ]
  },
  {
   "cell_type": "code",
   "execution_count": null,
   "id": "84c77cc5-088f-4178-a200-9fb87ea3744b",
   "metadata": {},
   "outputs": [],
   "source": [
    "import requests\n",
    "from bs4 import BeautifulSoup as bs\n",
    "import selenium\n",
    "from pprint import pprint as pp"
   ]
  },
  {
   "cell_type": "markdown",
   "id": "b6c4972c-91da-4b48-a372-25353707df7c",
   "metadata": {},
   "source": [
    "## Explorando estructura HTML"
   ]
  },
  {
   "cell_type": "code",
   "execution_count": null,
   "id": "06f3f4e3-bc79-42cd-876e-33b31e928dd8",
   "metadata": {},
   "outputs": [],
   "source": [
    "url = \"https://www.google.com\"\n",
    "response = requests.get(url)"
   ]
  },
  {
   "cell_type": "markdown",
   "id": "eb3fadb6-1de3-4224-8cc7-927c87563f5b",
   "metadata": {},
   "source": [
    "Incluir un método para revisar posibles errores en nuestra solicitud"
   ]
  },
  {
   "cell_type": "code",
   "execution_count": null,
   "id": "bc0fba72-6e22-4de4-8266-b4d43e3a6c47",
   "metadata": {},
   "outputs": [],
   "source": [
    "response.raise_for_status()"
   ]
  },
  {
   "cell_type": "markdown",
   "id": "7ccf816f-61ab-4cee-be5f-03168a5fceb3",
   "metadata": {},
   "source": [
    "Revisamos nuestra solicitud. Obtenemos 200, el cuál es el código de OK. Los códigos de estado están definidos por el estándar [RFC 9110](https://httpwg.org/specs/rfc9110.html#overview.of.status.codes), donde se espeficica el formato y los requisitos para que el funcionamiento de los DNS, los que te permiten traducir la IP de los servicios a nombres que podemos entender."
   ]
  },
  {
   "cell_type": "code",
   "execution_count": null,
   "id": "935e5084-b9b9-45bc-ada7-323a77763e13",
   "metadata": {},
   "outputs": [],
   "source": [
    "response"
   ]
  },
  {
   "cell_type": "markdown",
   "id": "74d61952-29c3-458d-9bdf-4e77cffecb41",
   "metadata": {},
   "source": [
    "Podemos acceder al contenido, pero sigue estándo en bytes. Después de todo, es contenido digital. HTTP usa bytes para medir la cantidad de información transmitida."
   ]
  },
  {
   "cell_type": "code",
   "execution_count": null,
   "id": "d2dcde60-06e4-4376-9758-3318b75a8a89",
   "metadata": {},
   "outputs": [],
   "source": [
    "response.content"
   ]
  },
  {
   "cell_type": "code",
   "execution_count": null,
   "id": "fe661c15-ae6f-4cf2-b43f-9799b0f9eea8",
   "metadata": {},
   "outputs": [],
   "source": [
    "type(response.content)"
   ]
  },
  {
   "cell_type": "markdown",
   "id": "1540fb95-d7c4-4535-853b-0c2c7d3a54b0",
   "metadata": {},
   "source": [
    "BeautifulSoup es un parseador de HTML/XML byte a formato estructurado, haciendo más fácil la extracción de información. "
   ]
  },
  {
   "cell_type": "code",
   "execution_count": null,
   "id": "ae64774e-f5c9-4c0a-8499-8f66ffe4baf7",
   "metadata": {},
   "outputs": [],
   "source": [
    "soup = bs(response.content, 'html.parser')"
   ]
  },
  {
   "cell_type": "code",
   "execution_count": null,
   "id": "b452dde3-dcee-4254-9a8e-3112397663c5",
   "metadata": {},
   "outputs": [],
   "source": [
    "soup"
   ]
  },
  {
   "cell_type": "code",
   "execution_count": null,
   "id": "17eda4ab-2c37-4270-a430-9e704e8c036e",
   "metadata": {},
   "outputs": [],
   "source": [
    "type(soup)"
   ]
  },
  {
   "cell_type": "code",
   "execution_count": null,
   "id": "14189e25-ec44-438a-a037-ecf7eb585be2",
   "metadata": {},
   "outputs": [],
   "source": [
    "print(soup.prettify())"
   ]
  },
  {
   "cell_type": "markdown",
   "id": "f44a6242-ac2d-4b40-a0ff-011864899dc9",
   "metadata": {},
   "source": [
    "> **TIP**\n",
    "> \n",
    "> `soup` es una instancia de la clase BeautifulSoup. Recordando un poco de la Programación Orientada a Objetos:\n",
    "> \n",
    ">```python\n",
    ">class MyClass:\n",
    ">   def __init__(self):\n",
    ">        self.attribute1 = \"value1\"\n",
    ">\n",
    ">    def method1(self):\n",
    ">        pass\n",
    ">\n",
    "> obj = MyClass()\n",
    "> attributes_and_methods = dir(obj)\n",
    "> attributes_and_methods\n",
    ">```\n",
    ">\n",
    ">* `soup` es un objeto de la **clase** BeautifulSoup que representa el documento HTML\n",
    ">  \n",
    ">   ```python\n",
    ">   soup = BeautifulSoup()\n",
    ">    ```\n",
    ">\n",
    ">* El método `find_all()` es un método de la clase BeautifulSoup que busca todas las etiquetas `p` en el documento y devuelve una lista con los resultados.\n",
    ">\n",
    ">    ```python\n",
    ">    parrafos = soup.find_all('p') \n",
    ">    ```\n",
    ">\n",
    ">* El atributo text nos permite acceder al texto contenido dentro de un elemento.\n",
    ">\n",
    ">    ```python\n",
    ">    texto_parrafo_1 = paragraphs[0].text\n",
    ">    ```\n",
    ">\n",
    "> Utilizando la tecla de tabulador podemos usar el autocompletar de Jupyter para listar los métodos y atributos disponibles para nuestro objeto `soup`. También podemos acceder a las clases y métodos de un objeto con `dir`\n",
    "> ```python\n",
    "> dir(soup)\n",
    ">```\n",
    "> "
   ]
  },
  {
   "cell_type": "markdown",
   "id": "1ca2ee2e-f578-4b3d-a0db-9bcee8afcbbe",
   "metadata": {},
   "source": [
    "**¿Cómo podemos acceder a todos las etiquetas, atributos y IDs disponibles en una página a través de BeautifulSoup?**"
   ]
  },
  {
   "cell_type": "code",
   "execution_count": null,
   "id": "08f7a629-a562-4bae-ac91-bbe737d86fd5",
   "metadata": {},
   "outputs": [],
   "source": [
    "def extract_elements(html_content):\n",
    "    \"\"\"\n",
    "    Extrae todos los tags, attributes, classes, y IDs de un documento HTML.\n",
    "\n",
    "    Args:\n",
    "        html_content: El contenido HTML como texto.\n",
    "\n",
    "    Returns:\n",
    "        Un diccionario que contiene una lista de tags, attributes, classes, y IDs.\n",
    "    \"\"\"\n",
    "\n",
    "    soup = bs(html_content, 'html.parser')\n",
    "\n",
    "    tags = {tag.name for tag in soup.find_all()}\n",
    "    attributes = {attr for tag in soup.find_all() for attr in tag.attrs}\n",
    "    classes = {class_name for tag in soup.find_all() for class_name in tag.get('class', [])}\n",
    "    ids = {tag.get('id') for tag in soup.find_all() if tag.get('id')}\n",
    "\n",
    "    return {'tags': tags, 'attributes': attributes, 'classes': classes, 'ids': ids}"
   ]
  },
  {
   "cell_type": "code",
   "execution_count": null,
   "id": "ff261dbc-a9ca-45a1-9ff3-764cd4b8d2e1",
   "metadata": {},
   "outputs": [],
   "source": [
    "pp(extract_elements(response.content))"
   ]
  },
  {
   "cell_type": "markdown",
   "id": "ff230121-dad4-4de4-9268-452142b6c355",
   "metadata": {},
   "source": [
    "**Obtengamos los elementos de nuestro `ejemplo_html`**"
   ]
  },
  {
   "cell_type": "code",
   "execution_count": null,
   "id": "7110b671-f778-4ff3-a9de-05756b2b593a",
   "metadata": {},
   "outputs": [],
   "source": [
    "pp(extract_elements(ejemplo_html))"
   ]
  }
 ],
 "metadata": {
  "kernelspec": {
   "display_name": "Python 3 (ipykernel)",
   "language": "python",
   "name": "python3"
  },
  "language_info": {
   "codemirror_mode": {
    "name": "ipython",
    "version": 3
   },
   "file_extension": ".py",
   "mimetype": "text/x-python",
   "name": "python",
   "nbconvert_exporter": "python",
   "pygments_lexer": "ipython3",
   "version": "3.12.1"
  }
 },
 "nbformat": 4,
 "nbformat_minor": 5
}
